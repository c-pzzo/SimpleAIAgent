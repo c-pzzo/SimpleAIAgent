{
 "cells": [
  {
   "cell_type": "markdown",
   "metadata": {},
   "source": [
    "# About\n",
    "Este consiste en crear un pequeño AI Agent que lea la información de cualquier página web, encuentre la opción de facturar, vaya a la página de facturación y llene automáticamente el primer formulario encontrado con información aleatoria.\n",
    "\n",
    "- Python 3.12.9"
   ]
  },
  {
   "cell_type": "markdown",
   "metadata": {},
   "source": [
    "# General strategy\n",
    "For every new billing site, this algorithm will learn the path to be followed needed to fill in its billing form. Once the path has already been defined and tested successfully, the path will be stored in a database for quick calling when a new bill is required from that business. For every successful execution, the metadata for latest date of successful execution will be updated. \n",
    "\n",
    "Three main libraries will be used:\n",
    "- The `Playwright` library will be used for Headless navigation of the billing site(s). \n",
    "- `BeautifulSoup` will be used  to map the site and provide a general path to follow to find the billing form. \n",
    "- Google's `Gemini` will provide the analysis of what's displayed in the website to make decisions.\n",
    "\n",
    "Respectively, these libraries will be the hands, map, and brain used to explore the site. We also want to be mindful about the computational resources that we use, so we prioritize low computation functionalities.\n",
    "\n",
    "## > Input:\n",
    "- JSON file with user and ticket data, as well as the root url to generate the invoice. \n",
    "\n",
    "## > Output:\n",
    "- Video navigation.\n",
    "- Screenshot of filled in billing form."
   ]
  },
  {
   "cell_type": "markdown",
   "metadata": {},
   "source": [
    "# Libraries"
   ]
  },
  {
   "cell_type": "code",
   "execution_count": 2,
   "metadata": {},
   "outputs": [],
   "source": [
    "import playwright\n",
    "from datetime import datetime"
   ]
  },
  {
   "cell_type": "markdown",
   "metadata": {},
   "source": [
    "# Parameters"
   ]
  },
  {
   "cell_type": "code",
   "execution_count": null,
   "metadata": {},
   "outputs": [],
   "source": [
    "# projects/464704113649/secrets/main-keys/versions/2"
   ]
  },
  {
   "cell_type": "markdown",
   "metadata": {},
   "source": [
    "# Initialization of Google Services"
   ]
  },
  {
   "cell_type": "markdown",
   "metadata": {},
   "source": [
    "![Service Account](static/Services.png \"Service Account of enabled Google Services\")"
   ]
  },
  {
   "cell_type": "code",
   "execution_count": null,
   "metadata": {},
   "outputs": [],
   "source": []
  },
  {
   "cell_type": "markdown",
   "metadata": {},
   "source": [
    "# User-Defined Functions"
   ]
  },
  {
   "cell_type": "code",
   "execution_count": null,
   "metadata": {},
   "outputs": [],
   "source": []
  },
  {
   "cell_type": "markdown",
   "metadata": {},
   "source": [
    "# Main\n",
    "\n",
    "Step 0. **Storage search**. <br> \n",
    "In case that a business site has already been previously analyzed to call in the path to follow in Playwright.\n",
    "\n",
    "Step 1. **Navigation**. <br> \n",
    "Gemini has one task: \"Is the billing form url reached?\"<br>\n",
    "\n",
    "1. Navigate on site: <br> \n",
    "a) Analyze HTML<br>\n",
    "b) If information from previous step unclear, analyze site screenshot with Gemini's multimodal input.<br>\n",
    "\n",
    "2. Check if the billing form has been reached.<br>\n",
    "F) Update Playwright path & repeat cycle.<br>\n",
    "T) Go to next step<br>\n",
    "\n",
    "Step 2. **Fill in Business form**. <br>\n",
    "a) New site: <br> \n",
    "If successful execution, update `business_sites_directory` with a new entry for this site. Incorporate metadata with datetime of successful execution. <br>\n",
    "b) Site already in storage: <br> \n",
    "Update datetime metadata. <br>"
   ]
  }
 ],
 "metadata": {
  "kernelspec": {
   "display_name": ".zumma_env",
   "language": "python",
   "name": "python3"
  },
  "language_info": {
   "codemirror_mode": {
    "name": "ipython",
    "version": 3
   },
   "file_extension": ".py",
   "mimetype": "text/x-python",
   "name": "python",
   "nbconvert_exporter": "python",
   "pygments_lexer": "ipython3",
   "version": "3.12.9"
  }
 },
 "nbformat": 4,
 "nbformat_minor": 2
}
