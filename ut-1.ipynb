{
 "cells": [
  {
   "cell_type": "markdown",
   "metadata": {},
   "source": [
    "# About\n",
    "Este consiste en crear un pequeño AI Agent que lea la información de cualquier página web, encuentre la opción de facturar, vaya a la página de facturación y llene automáticamente el primer formulario encontrado con información aleatoria.\n",
    "\n",
    "- Python 3.12.9"
   ]
  },
  {
   "cell_type": "markdown",
   "metadata": {},
   "source": [
    "# General strategy\n",
    "For every new billing site, this algorithm will learn the path to be followed needed to fill in its billing form. Once the path has already been defined and tested successfully, the path will be stored in a database for quick calling when a new bill is required from that business. For every successful execution, the metadata for latest date of successful execution will be updated. \n",
    "\n",
    "Three main libraries will be used:\n",
    "- The `Playwright` library will be used for Headless navigation of the billing site(s). \n",
    "- `BeautifulSoup` will be used  to map the site and provide a general path to follow to find the billing form. \n",
    "- Google's `Gemini` will provide the analysis of what's displayed in the website to make decisions. It will match user data and field information regardless of naming differences by following a detailed data dictionary.\n",
    "\n",
    "Respectively, these libraries will be the hands, map, and brain used to explore the site. We also want to be mindful about the computational resources that we use, so we prioritize low computation functionalities.\n",
    "\n",
    "## > Input:\n",
    "- JSON file with user and ticket data, as well as the root url to generate the invoice. \n",
    "\n",
    "## > Output:\n",
    "- Video navigation.\n",
    "- Screenshot of filled in billing form.\n",
    "\n",
    "# Google Services:\n",
    "- Google Secrets Manager\n",
    "- Google Cloud Storage\n",
    "- FireStore\n",
    "- Gemini API\n",
    "- Google Cloud Build\n",
    "- Google Cloud Run"
   ]
  },
  {
   "cell_type": "markdown",
   "metadata": {},
   "source": [
    "# Libraries"
   ]
  },
  {
   "cell_type": "code",
   "execution_count": null,
   "metadata": {},
   "outputs": [],
   "source": [
    "# General\n",
    "import io\n",
    "import os\n",
    "import json\n",
    "import re\n",
    "from datetime import datetime\n",
    "import json\n",
    "\n",
    "# Google Cloud Services\n",
    "from google.auth import credentials\n",
    "from google.oauth2 import service_account\n",
    "from google.cloud import secretmanager, storage\n",
    "\n",
    "# Firebase\n",
    "import firebase_admin\n",
    "from firebase_admin import credentials, firestore\n",
    "\n",
    "# Gemini\n",
    "import google.generativeai as genai\n",
    "\n",
    "# Playwright\n",
    "import playwright\n",
    "\n",
    "# FastAPI\n",
    "from fastapi import FastAPI, File, UploadFile, HTTPException\n"
   ]
  },
  {
   "cell_type": "markdown",
   "metadata": {},
   "source": [
    "# Parameters"
   ]
  },
  {
   "cell_type": "code",
   "execution_count": 16,
   "metadata": {},
   "outputs": [],
   "source": [
    "sm_name = \"projects/464704113649/secrets/main-keys/versions/3\""
   ]
  },
  {
   "cell_type": "markdown",
   "metadata": {},
   "source": [
    "# Initialization of Google Services"
   ]
  },
  {
   "cell_type": "markdown",
   "metadata": {},
   "source": [
    "![Service Account](static/Services.png \"Service Account of enabled Google Services\")"
   ]
  },
  {
   "cell_type": "code",
   "execution_count": 10,
   "metadata": {},
   "outputs": [],
   "source": [
    "def initiate_secrets_manager(sm_name):\n",
    "    sm_client = secretmanager.SecretManagerServiceClient()\n",
    "    response = sm_client.access_secret_version(request={\"name\": sm_name})\n",
    "    payload = response.payload.data.decode(\"UTF-8\")\n",
    "    env_vars = json.loads(payload)\n",
    "    return env_vars"
   ]
  },
  {
   "cell_type": "markdown",
   "metadata": {},
   "source": [
    "# User-Defined Functions"
   ]
  },
  {
   "cell_type": "code",
   "execution_count": 13,
   "metadata": {},
   "outputs": [],
   "source": [
    "# Define global variables\n",
    "env_vars = None\n",
    "creds = None\n",
    "db = None\n",
    "mm_embedding_model = None\n",
    "genai_model = None\n",
    "storage_client = None\n",
    "bucket_name = None\n",
    "bucket = None\n",
    "\n",
    "def initialize_services(sm_name):\n",
    "    \"\"\"Initialize services only once per Cloud Run instance\"\"\"\n",
    "    global env_vars, creds, db, genai_model, storage_client, bucket_name, bucket\n",
    "\n",
    "    env_vars = initiate_secrets_manager(sm_name)\n",
    "\n",
    "    if creds is None:\n",
    "        creds = service_account.Credentials.from_service_account_info(env_vars[\"zumma_service_account\"])\n",
    "\n",
    "    if not firebase_admin._apps:  # Avoid multiple Firebase initializations\n",
    "        firebase_cred = credentials.Certificate(env_vars[\"zumma_service_account\"])\n",
    "        firebase_admin.initialize_app(firebase_cred)\n",
    "\n",
    "    if db is None:\n",
    "        db = firestore.client()\n",
    "\n",
    "    if genai_model is None:\n",
    "        genai.configure(api_key=env_vars['gemini_api_key'])\n",
    "        genai_model = genai.GenerativeModel(model_name=\"models/gemini-2.0-flash-lite\")\n",
    "\n",
    "    if storage_client is None:\n",
    "        bucket_name = env_vars[\"bucket_name\"]\n",
    "        storage_client = storage.Client(credentials=creds)\n",
    "        bucket = storage_client.bucket(bucket_name)\n"
   ]
  },
  {
   "cell_type": "code",
   "execution_count": 17,
   "metadata": {},
   "outputs": [],
   "source": [
    "# ✅ Call once at startup (e.g., in FastAPI `@app.on_event(\"startup\")`)\n",
    "initialize_services(sm_name)"
   ]
  },
  {
   "cell_type": "markdown",
   "metadata": {},
   "source": [
    "# Main\n",
    "\n",
    "## Input data\n",
    "Input: Json file with the following fields: <br>\n",
    "**User data**: <br>\n",
    "* \"Razon_social\": _Legal name of the company or individual_\n",
    "* \"codigo_postal\": _Postal code of the user's address_\n",
    "* \"colonia\": _\"Neighborhood or subdivision within the city\"_\n",
    "* \"población\": _City or town where the user is located_\n",
    "* \"correo_electronico\": _Email for invoice delivery_\n",
    "* \"uso_de_cfdi\": _Purpose of the invoice according to SAT (México)_\n",
    "* \"delegacion_municipio\": _Municipality or borough of the user's address_\n",
    "* \"estado\": _State where the user is located_\n",
    "* \"regimen_fiscal\": _Fiscal regime under which the user is registered_\n",
    "\n",
    "**Ticket data**: <br>\n",
    "* \"store_name\": __\n",
    "* \"store_address\": __\n",
    "* \"ticket_number\": __\n",
    "* \"ticket_date\": __\n",
    "* \"ticket_total\": __\n",
    "* \"billing_url\": [_Primary Key_]\n",
    "\n",
    "## Relevant Libraries\n",
    "* `Gemini` has one task: Evaluate if the billing form url been reached. It will understand the webpage and make decisions using multimodal analysis (text and image) as needed.\n",
    "* `BeautifulSoup` will help map urls to be interpreted. \n",
    "* `Playwright` has two tasks: to navigate to the path towards the billing form url, and to fill in the invoice. <br>\n",
    "\n",
    "## Steps\n",
    "Step 0. **Storage search**. <br> \n",
    "In case that a business site has already been previously analyzed to call in the path to follow in Playwright.\n",
    "\n",
    "Step 1. **Navigation**. <br> \n",
    "`BeautifulSoup` will be used to map out urls looking for the billing url.\n",
    "\n",
    "1. Navigate on site: <br> \n",
    "a) Analyze HTML<br>\n",
    "b) If information from previous step unclear, analyze site screenshot with Gemini's multimodal input.<br>\n",
    "\n",
    "2. Check if the billing form has been reached.<br>\n",
    "F) Update Playwright path & repeat cycle.<br>\n",
    "T) Go to next step<br>\n",
    "\n",
    "Step 2. **Fill in Business form**. <br>\n",
    "a) New site: <br> \n",
    "If successful execution, update `business_sites_directory` with a new entry for this site. Incorporate metadata with datetime of successful execution. <br>\n",
    "b) Site already in storage: <br> \n",
    "Update datetime metadata with latest successful execution. This to keep track if site infrastructure changes. <br>"
   ]
  },
  {
   "cell_type": "code",
   "execution_count": null,
   "metadata": {},
   "outputs": [],
   "source": []
  }
 ],
 "metadata": {
  "kernelspec": {
   "display_name": ".zumma_env",
   "language": "python",
   "name": "python3"
  },
  "language_info": {
   "codemirror_mode": {
    "name": "ipython",
    "version": 3
   },
   "file_extension": ".py",
   "mimetype": "text/x-python",
   "name": "python",
   "nbconvert_exporter": "python",
   "pygments_lexer": "ipython3",
   "version": "3.12.9"
  }
 },
 "nbformat": 4,
 "nbformat_minor": 2
}
