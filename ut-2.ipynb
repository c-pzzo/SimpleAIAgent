{
 "cells": [
  {
   "cell_type": "markdown",
   "metadata": {},
   "source": [
    "# About\n",
    "Simple Playwright tests"
   ]
  },
  {
   "cell_type": "code",
   "execution_count": 2,
   "metadata": {},
   "outputs": [],
   "source": [
    "import re\n",
    "from playwright.sync_api import Page, expect\n",
    "\n",
    "def test_has_title(page: Page):\n",
    "    # Navigating page\n",
    "    page.goto(\"https://playwright.dev/\")\n",
    "\n",
    "    # Expect a title \"to contain\" a substring.\n",
    "    expect(page).to_have_title(re.compile(\"Playwright\"))\n",
    "\n",
    "def test_get_started_link(page: Page):\n",
    "    page.goto(\"https://playwright.dev/\")\n",
    "\n",
    "    # Click the get started link.\n",
    "    page.get_by_role(\"link\", name=\"Get started\").click()\n",
    "\n",
    "    # Expects page to have a heading with the name of Installation.\n",
    "    expect(page.get_by_role(\"heading\", name=\"Installation\")).to_be_visible()"
   ]
  }
 ],
 "metadata": {
  "kernelspec": {
   "display_name": ".zumma_env",
   "language": "python",
   "name": "python3"
  },
  "language_info": {
   "codemirror_mode": {
    "name": "ipython",
    "version": 3
   },
   "file_extension": ".py",
   "mimetype": "text/x-python",
   "name": "python",
   "nbconvert_exporter": "python",
   "pygments_lexer": "ipython3",
   "version": "3.12.9"
  }
 },
 "nbformat": 4,
 "nbformat_minor": 2
}
