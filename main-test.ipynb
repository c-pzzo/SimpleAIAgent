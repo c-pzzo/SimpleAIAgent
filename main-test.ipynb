{
 "cells": [
  {
   "cell_type": "markdown",
   "metadata": {},
   "source": [
    "# About\n",
    "Solution workflow"
   ]
  },
  {
   "cell_type": "markdown",
   "metadata": {},
   "source": [
    "# Libraries"
   ]
  },
  {
   "cell_type": "code",
   "execution_count": null,
   "metadata": {},
   "outputs": [
    {
     "name": "stderr",
     "output_type": "stream",
     "text": [
      "c:\\Users\\cp_98\\OneDrive\\Documentos\\Coding\\Projects\\SimpleAIAgent\\.zumma_env\\Lib\\site-packages\\tqdm\\auto.py:21: TqdmWarning: IProgress not found. Please update jupyter and ipywidgets. See https://ipywidgets.readthedocs.io/en/stable/user_install.html\n",
      "  from .autonotebook import tqdm as notebook_tqdm\n"
     ]
    }
   ],
   "source": [
    "# General \n",
    "import json\n",
    "from pprint import pprint\n",
    "import subprocess\n",
    "import PIL\n",
    "\n",
    "# Image\n",
    "from PIL import Image\n",
    "\n",
    "# Gemini\n",
    "import google.generativeai as genai\n",
    "\n"
   ]
  },
  {
   "cell_type": "code",
   "execution_count": 22,
   "metadata": {},
   "outputs": [],
   "source": [
    "from functions.pw_udf import *\n",
    "from functions.initialization import *"
   ]
  },
  {
   "cell_type": "markdown",
   "metadata": {},
   "source": [
    "# Input"
   ]
  },
  {
   "cell_type": "code",
   "execution_count": 23,
   "metadata": {},
   "outputs": [],
   "source": [
    "source_json=\"database/user_data/clark-kent.json\"\n",
    "main_data=\"static/data_dictionary_template.json\""
   ]
  },
  {
   "cell_type": "code",
   "execution_count": 24,
   "metadata": {},
   "outputs": [],
   "source": [
    "with open(source_json, \"r\", encoding=\"utf-8\") as src:\n",
    "    source_data = json.load(src)\n",
    "\n",
    "with open(main_data, \"r\", encoding=\"utf-8\") as src:\n",
    "    main_data = json.load(src)\n",
    "\n",
    "# Fill the destination JSON\n",
    "for key in main_data.keys():\n",
    "    if key in source_data:\n",
    "        main_data[key] = source_data[key]    "
   ]
  },
  {
   "cell_type": "code",
   "execution_count": null,
   "metadata": {},
   "outputs": [],
   "source": [
    "main_data[\"ticket_data\"]"
   ]
  },
  {
   "cell_type": "markdown",
   "metadata": {},
   "source": [
    "# Initialization"
   ]
  },
  {
   "cell_type": "code",
   "execution_count": 25,
   "metadata": {},
   "outputs": [],
   "source": [
    "initialize_services(sm_name)"
   ]
  },
  {
   "cell_type": "markdown",
   "metadata": {},
   "source": [
    "# User-Defined Functions"
   ]
  },
  {
   "cell_type": "code",
   "execution_count": 26,
   "metadata": {},
   "outputs": [],
   "source": [
    "def ti2t(text, img):\n",
    "    \"\"\"\n",
    "    The generate_content method can handle a wide variety of use cases depending on what the underlying model supports, including:\n",
    "    * multi-turn chat\n",
    "    * multimodal input. \n",
    "    \n",
    "    The available models only support text and images as input, and text as output.\n",
    "    \"\"\"\n",
    "    response = genai_model.generate_content([text, img])\n",
    "    \n",
    "    return response.text"
   ]
  },
  {
   "cell_type": "markdown",
   "metadata": {},
   "source": [
    "# Step 0: Storage Search\n",
    "Look for previous solution in storage"
   ]
  },
  {
   "cell_type": "code",
   "execution_count": null,
   "metadata": {},
   "outputs": [],
   "source": []
  },
  {
   "cell_type": "markdown",
   "metadata": {},
   "source": [
    "# Step 1: Website Navigation\n",
    "Use a AI Coding Agent specialized in Playwright for Python to navigate through webpages until a billing form webpage is found. Each step will be recorded. "
   ]
  },
  {
   "cell_type": "code",
   "execution_count": 14,
   "metadata": {},
   "outputs": [
    {
     "name": "stdout",
     "output_type": "stream",
     "text": [
      "Screenshot saved: output/screenshots/alsea/alsea1.png\n"
     ]
    }
   ],
   "source": [
    "!python .\\tests\\ut-pw-ss.py \"https://www.alsea.com.mx/factura-electronica.html\" \"alsea\" \"alsea\" 1  "
   ]
  },
  {
   "cell_type": "code",
   "execution_count": null,
   "metadata": {},
   "outputs": [],
   "source": [
    "\n",
    "ss_img = Image.open(\"output/screenshots/alsea/alsea1.png\")"
   ]
  },
  {
   "cell_type": "code",
   "execution_count": null,
   "metadata": {},
   "outputs": [],
   "source": [
    "ti2t(text, img)"
   ]
  },
  {
   "cell_type": "code",
   "execution_count": null,
   "metadata": {},
   "outputs": [],
   "source": [
    "# Playwright\n",
    "from playwright.sync_api import Playwright, sync_playwright\n",
    "\n",
    "def start_run(url_start: str, playwright: Playwright):\n",
    "    browser = playwright.chromium.launch(headless=True)\n",
    "    context = browser.new_context()\n",
    "    page = context.new_page()\n",
    "    page.goto(url_start)\n",
    "\n",
    "    return browser, context, page\n",
    "\n",
    "def end_run(browser, context):\n",
    "    context.close()\n",
    "    browser.close()"
   ]
  },
  {
   "cell_type": "code",
   "execution_count": null,
   "metadata": {},
   "outputs": [],
   "source": [
    "url_start = \"https://www.alsea.com.mx/factura-electronica.html\"\n",
    "browser, context, page = start_run(url_start, playwright)"
   ]
  },
  {
   "cell_type": "markdown",
   "metadata": {},
   "source": [
    "# Playwright UDF"
   ]
  },
  {
   "cell_type": "code",
   "execution_count": null,
   "metadata": {},
   "outputs": [],
   "source": [
    "# Playwright\n",
    "from playwright.sync_api import Playwright, sync_playwright\n",
    "\n",
    "def start_run(url_start: str, playwright: Playwright):\n",
    "    browser = playwright.chromium.launch(headless=True)\n",
    "    context = browser.new_context()\n",
    "    page = context.new_page()\n",
    "    page.goto(url_start)\n",
    "\n",
    "    return browser, context, page\n",
    "\n",
    "def end_run(browser, context):\n",
    "    context.close()\n",
    "    browser.close()"
   ]
  },
  {
   "cell_type": "code",
   "execution_count": null,
   "metadata": {},
   "outputs": [],
   "source": []
  },
  {
   "cell_type": "code",
   "execution_count": null,
   "metadata": {},
   "outputs": [],
   "source": []
  },
  {
   "cell_type": "code",
   "execution_count": null,
   "metadata": {},
   "outputs": [],
   "source": [
    "from functions.pw_udf.py import *\n",
    "\n"
   ]
  },
  {
   "cell_type": "code",
   "execution_count": null,
   "metadata": {},
   "outputs": [],
   "source": []
  },
  {
   "cell_type": "code",
   "execution_count": null,
   "metadata": {},
   "outputs": [],
   "source": []
  },
  {
   "cell_type": "markdown",
   "metadata": {},
   "source": [
    "# Step 2: Billing form Fill-in\n",
    "Once the billing form webpage is found, it will input the information in the user's JSON file"
   ]
  }
 ],
 "metadata": {
  "kernelspec": {
   "display_name": ".zumma_env",
   "language": "python",
   "name": "python3"
  },
  "language_info": {
   "codemirror_mode": {
    "name": "ipython",
    "version": 3
   },
   "file_extension": ".py",
   "mimetype": "text/x-python",
   "name": "python",
   "nbconvert_exporter": "python",
   "pygments_lexer": "ipython3",
   "version": "3.12.9"
  }
 },
 "nbformat": 4,
 "nbformat_minor": 2
}
