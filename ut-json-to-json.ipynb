{
 "cells": [
  {
   "cell_type": "markdown",
   "metadata": {},
   "source": [
    "# About\n",
    "Test to send information from one JSON to another one.\n",
    "\n",
    "Since both JSON files have the same keys, you can simply read from the source JSON file and write the data into the destination JSON file"
   ]
  },
  {
   "cell_type": "code",
   "execution_count": null,
   "metadata": {},
   "outputs": [],
   "source": [
    "import json"
   ]
  },
  {
   "cell_type": "code",
   "execution_count": 1,
   "metadata": {},
   "outputs": [],
   "source": [
    "# File paths\n",
    "source_file = \"source.json\"\n",
    "destination_file = \"destination.json\""
   ]
  },
  {
   "cell_type": "code",
   "execution_count": null,
   "metadata": {},
   "outputs": [],
   "source": [
    "# Read data from source JSON file\n",
    "with open(source_file, \"r\") as src:\n",
    "    data = json.load(src)  # Load the JSON content into a Python dictionary\n",
    "\n",
    "# Write the data into the destination JSON file\n",
    "with open(destination_file, \"w\") as dest:\n",
    "    json.dump(data, dest, indent=4)  # Pretty print with indent=4\n",
    "\n",
    "print(\"Data transfer completed successfully!\")\n"
   ]
  }
 ],
 "metadata": {
  "kernelspec": {
   "display_name": ".zumma_env",
   "language": "python",
   "name": "python3"
  },
  "language_info": {
   "codemirror_mode": {
    "name": "ipython",
    "version": 3
   },
   "file_extension": ".py",
   "mimetype": "text/x-python",
   "name": "python",
   "nbconvert_exporter": "python",
   "pygments_lexer": "ipython3",
   "version": "3.12.9"
  }
 },
 "nbformat": 4,
 "nbformat_minor": 2
}
