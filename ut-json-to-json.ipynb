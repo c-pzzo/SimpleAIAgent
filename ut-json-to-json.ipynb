{
 "cells": [
  {
   "cell_type": "markdown",
   "metadata": {},
   "source": [
    "# About\n",
    "Test to send information from one JSON to another one.\n",
    "\n",
    "Since both JSON files have the same keys, you can simply read from the source JSON file and write the data into the destination JSON file"
   ]
  },
  {
   "cell_type": "code",
   "execution_count": 6,
   "metadata": {},
   "outputs": [],
   "source": [
    "import json\n",
    "from pprint import pprint"
   ]
  },
  {
   "cell_type": "code",
   "execution_count": null,
   "metadata": {},
   "outputs": [],
   "source": [
    "# File paths\n",
    "source_file = \"database/user_data/clark-kent.json\"\n",
    "template_file = \"static/data_dictionary_template.json\""
   ]
  },
  {
   "cell_type": "code",
   "execution_count": 5,
   "metadata": {},
   "outputs": [],
   "source": [
    "# Read data from Template JSON file\n",
    "with open(template_file, \"r\") as src:\n",
    "    dd_template = json.load(src)  \n",
    "\n",
    "# Read data from source JSON file\n",
    "with open(source_file, \"r\") as src:\n",
    "    source_data = json.load(src)  # Load the JSON content into a Python dictionary"
   ]
  },
  {
   "cell_type": "code",
   "execution_count": 8,
   "metadata": {},
   "outputs": [],
   "source": [
    "# Fill the destination JSON with values from the source\n",
    "for key in dd_template.keys():\n",
    "    if key in source_data:  # Only update if the key exists in source\n",
    "        dd_template[key] = source_data[key]"
   ]
  },
  {
   "cell_type": "code",
   "execution_count": 9,
   "metadata": {},
   "outputs": [
    {
     "name": "stdout",
     "output_type": "stream",
     "text": [
      "{'ticket_data': {'billing_url': 'https://billing.example.com/ticket/MP202503300000001',\n",
      "                 'store_address': '344 Clinton St, Metropolis',\n",
      "                 'store_name': 'Daily Planet CafÃ©',\n",
      "                 'ticket_date': '2025-03-30',\n",
      "                 'ticket_number': 'MP202503300000001',\n",
      "                 'ticket_total': '25.00'},\n",
      " 'user_data': {'Razon_social': 'Clark Kent Enterprises',\n",
      "               'codigo_postal': '10001',\n",
      "               'colonia': 'Metropolis Downtown',\n",
      "               'correo_electronico': 'clark.kent@dailyplanet.com',\n",
      "               'delegacion_municipio': 'Midtown',\n",
      "               'estado': 'NY',\n",
      "               'poblaciÃ³n': 'Metropolis',\n",
      "               'regimen_fiscal': '601 - General de Ley Personas Morales',\n",
      "               'uso_de_cfdi': 'G03 - Gastos en general'}}\n"
     ]
    }
   ],
   "source": [
    "# The destination JSON is now filled in memory\n",
    "pprint(dd_template)  # Verify the updated JSON\n"
   ]
  }
 ],
 "metadata": {
  "kernelspec": {
   "display_name": ".zumma_env",
   "language": "python",
   "name": "python3"
  },
  "language_info": {
   "codemirror_mode": {
    "name": "ipython",
    "version": 3
   },
   "file_extension": ".py",
   "mimetype": "text/x-python",
   "name": "python",
   "nbconvert_exporter": "python",
   "pygments_lexer": "ipython3",
   "version": "3.12.9"
  }
 },
 "nbformat": 4,
 "nbformat_minor": 2
}
