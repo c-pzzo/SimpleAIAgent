{
 "cells": [
  {
   "cell_type": "markdown",
   "metadata": {},
   "source": [
    "# Playwright UDFs"
   ]
  },
  {
   "cell_type": "markdown",
   "metadata": {},
   "source": [
    "# Libraries"
   ]
  },
  {
   "cell_type": "code",
   "execution_count": 1,
   "metadata": {},
   "outputs": [],
   "source": [
    "from playwright.sync_api import Playwright, sync_playwright"
   ]
  },
  {
   "cell_type": "markdown",
   "metadata": {},
   "source": [
    "# User-Defined Functions (UDFs)"
   ]
  },
  {
   "cell_type": "code",
   "execution_count": null,
   "metadata": {},
   "outputs": [],
   "source": [
    "# Screenshot generator\n",
    "def screenshot_generator(url_path, img_title, n):\n",
    "    with sync_playwright() as p:\n",
    "        browser = p.webkit.launch()\n",
    "        page = browser.new_page()\n",
    "        page.goto(url_path)\n",
    "        page.screenshot(path=\"output/screenshots/{img_title}{n}.png\", full_page=True )\n",
    "        browser.close()"
   ]
  },
  {
   "cell_type": "code",
   "execution_count": null,
   "metadata": {},
   "outputs": [],
   "source": [
    "\n",
    "def start_run(url_start: str, playwright: Playwright):\n",
    "    browser = playwright.chromium.launch(headless=True)\n",
    "    context = browser.new_context()\n",
    "    page = context.new_page()\n",
    "    page.goto(url_start)\n",
    "\n",
    "    return browser, context, page\n",
    "\n",
    "def end_run(browser, context):\n",
    "    context.close()\n",
    "    browser.close()"
   ]
  }
 ],
 "metadata": {
  "kernelspec": {
   "display_name": ".zumma_env",
   "language": "python",
   "name": "python3"
  },
  "language_info": {
   "codemirror_mode": {
    "name": "ipython",
    "version": 3
   },
   "file_extension": ".py",
   "mimetype": "text/x-python",
   "name": "python",
   "nbconvert_exporter": "python",
   "pygments_lexer": "ipython3",
   "version": "3.12.9"
  }
 },
 "nbformat": 4,
 "nbformat_minor": 2
}
