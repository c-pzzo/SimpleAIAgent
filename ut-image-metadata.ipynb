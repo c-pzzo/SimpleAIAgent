{
 "cells": [
  {
   "cell_type": "markdown",
   "metadata": {},
   "source": [
    "# About\n",
    "Image metadata"
   ]
  },
  {
   "cell_type": "code",
   "execution_count": 7,
   "metadata": {},
   "outputs": [],
   "source": [
    "from PIL import Image\n",
    "from PIL.PngImagePlugin import PngInfo"
   ]
  },
  {
   "cell_type": "code",
   "execution_count": 1,
   "metadata": {},
   "outputs": [],
   "source": [
    "img_path = \"ss_test/alsea/2_alsea.png\"\n",
    "img_url = \"https://alsea.interfactura.com/RegistroDocumento.aspx?opc=Italiannis\""
   ]
  },
  {
   "cell_type": "code",
   "execution_count": 3,
   "metadata": {},
   "outputs": [],
   "source": [
    "img = Image.open(img_path)"
   ]
  },
  {
   "cell_type": "code",
   "execution_count": 4,
   "metadata": {},
   "outputs": [],
   "source": [
    "def add_image_metadata(img, img_path, img_url):\n",
    "    metadata = PngInfo(); \n",
    "    metadata.add_text('Source URL', img_url); \n",
    "    img.save(img_path, 'PNG', pnginfo=metadata); "
   ]
  },
  {
   "cell_type": "code",
   "execution_count": 5,
   "metadata": {},
   "outputs": [],
   "source": [
    "add_image_metadata(img, img_path, img_url)"
   ]
  },
  {
   "cell_type": "code",
   "execution_count": null,
   "metadata": {},
   "outputs": [
    {
     "name": "stdout",
     "output_type": "stream",
     "text": [
      "{'Source URL': 'https://alsea.interfactura.com/RegistroDocumento.aspx?opc=Italiannis'}\n"
     ]
    }
   ],
   "source": [
    "img = Image.open(img_path)\n",
    "print(img.info)"
   ]
  }
 ],
 "metadata": {
  "kernelspec": {
   "display_name": ".zumma_env",
   "language": "python",
   "name": "python3"
  },
  "language_info": {
   "codemirror_mode": {
    "name": "ipython",
    "version": 3
   },
   "file_extension": ".py",
   "mimetype": "text/x-python",
   "name": "python",
   "nbconvert_exporter": "python",
   "pygments_lexer": "ipython3",
   "version": "3.12.9"
  }
 },
 "nbformat": 4,
 "nbformat_minor": 2
}
